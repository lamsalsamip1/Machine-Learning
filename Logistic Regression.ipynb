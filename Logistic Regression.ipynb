{
 "cells": [
  {
   "cell_type": "markdown",
   "id": "c44c2554",
   "metadata": {},
   "source": [
    "# Logistic Regression Project\n",
    "\n",
    "This is a model that will predict whether a team will be able to finish top 4 in the premier league or not with a given number of points, based on sample data of previous 5 seasons."
   ]
  },
  {
   "cell_type": "code",
   "execution_count": 1,
   "id": "3fdb48b8",
   "metadata": {},
   "outputs": [],
   "source": [
    "import numpy as np\n",
    "import matplotlib.pyplot as plt\n",
    "import copy\n",
    "import math"
   ]
  },
  {
   "cell_type": "code",
   "execution_count": 89,
   "id": "0f1da149",
   "metadata": {},
   "outputs": [
    {
     "name": "stdout",
     "output_type": "stream",
     "text": [
      "[0.092 0.093 0.074 0.071 0.069 0.058 0.069 0.067 0.066 0.065 0.081 0.066\n",
      " 0.062 0.059 0.072 0.071 0.07  0.066 0.077 0.075 0.07  0.063 0.054 0.076\n",
      " 0.075 0.069 0.061 0.054 0.056 0.062]\n",
      "[1. 1. 1. 1. 0. 0. 1. 1. 0. 0. 1. 1. 0. 0. 1. 1. 0. 0. 1. 1. 0. 0. 0. 1.\n",
      " 0. 0. 0. 0. 0. 0.]\n"
     ]
    }
   ],
   "source": [
    "# Sample data collected manually, X= number of points, Y= top 4 or not\n",
    "X_train=np.array([92.,93.,74.,71.,69.,58.,69.,67.,66.,65.,81.,66.,62.,59.,72.,71.,70.,66.,77.,75.,70.,63.,54.,76.,75.,69.,61.,54.,56.,62.])\n",
    "Y_train=np.array([1.,1.,1.,1.,0.,0.,1.,1.,0.,0.,1.,1.,0.,0.,1.,1.,0.,0.,1.,1.,0.,0.,0.,1.,0.,0.,0.,0.,0.,0.])\n",
    "\n",
    "print(X_train)\n",
    "print(Y_train)"
   ]
  },
  {
   "cell_type": "code",
   "execution_count": 80,
   "id": "02c12db9",
   "metadata": {},
   "outputs": [
    {
     "name": "stdout",
     "output_type": "stream",
     "text": [
      "The shape of X_train is: (30,)\n",
      "The shape of y_train is: (30,)\n",
      "We have m = 30 training examples\n"
     ]
    }
   ],
   "source": [
    "# Checking the dimension of data\n",
    "print ('The shape of X_train is: ' + str(X_train.shape))\n",
    "print ('The shape of y_train is: ' + str(Y_train.shape))\n",
    "print ('We have m = %d training examples' % (len(Y_train)))"
   ]
  },
  {
   "cell_type": "code",
   "execution_count": 47,
   "id": "7f6271e6",
   "metadata": {},
   "outputs": [
    {
     "data": {
      "image/png": "[encoded data removed]",
      "text/plain": [
       "<Figure size 640x480 with 1 Axes>"
      ]
     },
     "metadata": {},
     "output_type": "display_data"
    }
   ],
   "source": [
    "#Plotting the data\n",
    "plt.scatter(X_train,Y_train)\n",
    "plt.xlabel(\"Points obtained\")\n",
    "\n",
    "m =X_train.shape[0]\n",
    "col =[]\n",
    "  \n",
    "for i in range(0, len(Y_train)):\n",
    "    if Y_train[i]==1:\n",
    "        col.append('green')  \n",
    "    else:\n",
    "        col.append('red') \n",
    "  \n",
    "for i in range(m):\n",
    "      \n",
    "    # plotting the corresponding x with y \n",
    "    # and respective color\n",
    "    plt.scatter(X_train[i], Y_train[i], c = col[i])\n",
    "    \n",
    "#plt.legend([\"Didn't finish top 4\", \"Finished top 4\"], loc =\"center right\",labelcolor=[\"red\",\"green\"])\n",
    "\n",
    "plt.show()\n"
   ]
  },
  {
   "cell_type": "markdown",
   "id": "5df5f1f1",
   "metadata": {},
   "source": [
    "### Sigmoid function"
   ]
  },
  {
   "cell_type": "code",
   "execution_count": 81,
   "id": "24c6fada",
   "metadata": {},
   "outputs": [],
   "source": [
    "def sigmoid(z):\n",
    "    \n",
    "    g = 1/(1+np.exp(-z))\n",
    "    return g\n",
    "    "
   ]
  },
  {
   "cell_type": "markdown",
   "id": "5cdceae1",
   "metadata": {},
   "source": [
    "### Cost function for logistic regression"
   ]
  },
  {
   "cell_type": "code",
   "execution_count": 95,
   "id": "fca28548",
   "metadata": {},
   "outputs": [],
   "source": [
    "\n",
    "def compute_cost(X,y,w,b):\n",
    "    \n",
    "    m = X.shape[0]\n",
    "    total_loss=0\n",
    "    epsilon = 1e-7\n",
    "    for i in range(m):\n",
    "        \n",
    "        z_wb= w*X[i]+b  \n",
    "        f_wb=sigmoid(z_wb)\n",
    "        #print(f_wb)\n",
    "        loss =  -y[i] * np.log(f_wb) - (1 - y[i]) * np.log(1 - f_wb+epsilon)\n",
    "        total_loss=total_loss+loss\n",
    "        \n",
    "    total_cost = (1 / m) * total_loss\n",
    "    \n",
    "    ### END CODE HERE ### \n",
    "\n",
    "    return total_cost"
   ]
  },
  {
   "cell_type": "code",
   "execution_count": 109,
   "id": "9b13fe09",
   "metadata": {},
   "outputs": [
    {
     "name": "stdout",
     "output_type": "stream",
     "text": [
      "Cost at w=1 is 5.665465215248766\n"
     ]
    }
   ],
   "source": [
    "m=X_train.shape[0]\n",
    "\n",
    "# Compute and display cost with w initialized to zeroes\n",
    "initial_w = 0.\n",
    "initial_b = 10\n",
    "cost = compute_cost(X_train, Y_train, initial_w, initial_b)\n",
    "print(f\"Cost at w=0 is {cost}\")"
   ]
  },
  {
   "cell_type": "markdown",
   "id": "bf4a8774",
   "metadata": {},
   "source": [
    "### Gradient function"
   ]
  },
  {
   "cell_type": "code",
   "execution_count": 113,
   "id": "13fddcde",
   "metadata": {},
   "outputs": [],
   "source": [
    "def compute_gradient(X, y, w, b): \n",
    "\n",
    "    m=X.shape[0]\n",
    "    dj_dw = 0.\n",
    "    dj_db = 0.\n",
    "\n",
    "\n",
    "    for i in range(m):\n",
    "       \n",
    "        z_wb= w*X[i]+b  \n",
    "        f_wb=sigmoid(z_wb)\n",
    "        \n",
    "        dj_db_i = f_wb - y[i]\n",
    "        dj_db += dj_db_i\n",
    "        \n",
    "        dj_dw_i = (f_wb - y[i])* X[i]\n",
    "        dj_dw += dj_dw_i\n",
    "            \n",
    "    dj_dw = dj_dw/m\n",
    "    dj_db = dj_db/m\n",
    "\n",
    "\n",
    "        \n",
    "    return dj_db, dj_dw"
   ]
  },
  {
   "cell_type": "code",
   "execution_count": 118,
   "id": "b233e3e7",
   "metadata": {},
   "outputs": [
    {
     "name": "stdout",
     "output_type": "stream",
     "text": [
      "dj_db at initial w (zeros):0.2977252452966716\n",
      "dj_dw at initial w (zeros):17.47246159045667\n"
     ]
    }
   ],
   "source": [
    "# Compute and display gradient with w initialized to zeroes\n",
    "initial_w = 0.\n",
    "initial_b = 1.\n",
    "\n",
    "dj_db, dj_dw = compute_gradient(X_train, Y_train, initial_w, initial_b)\n",
    "print(f'dj_db at initial w (zeros):{dj_db}' )\n",
    "print(f'dj_dw at initial w (zeros):{dj_dw}' )"
   ]
  },
  {
   "cell_type": "markdown",
   "id": "cfb62814",
   "metadata": {},
   "source": [
    "### Learning parameters using gradient descent"
   ]
  },
  {
   "cell_type": "code",
   "execution_count": 121,
   "id": "6cd686c2",
   "metadata": {},
   "outputs": [],
   "source": [
    "def gradient_descent(X, y, w_in, b_in, cost_function, gradient_function, alpha, num_iters): \n",
    "    \n",
    "   \n",
    "    # number of training examples\n",
    "    m = X.shape[0]\n",
    "    \n",
    "    # An array to store cost J and w's at each iteration primarily for graphing later\n",
    "    J_history = []\n",
    "    w_history = []\n",
    "    \n",
    "    for i in range(num_iters):\n",
    "\n",
    "        # Calculate the gradient and update the parameters\n",
    "        dj_db, dj_dw = gradient_function(X, y, w_in, b_in)   \n",
    "\n",
    "        # Update Parameters using w, b, alpha and gradient\n",
    "        w_in = w_in - alpha * dj_dw               \n",
    "        b_in = b_in - alpha * dj_db              \n",
    "       \n",
    "        # Save cost J at each iteration\n",
    "        if i<100000:      # prevent resource exhaustion \n",
    "            cost =  cost_function(X, y, w_in, b_in)\n",
    "            J_history.append(cost)\n",
    "\n",
    "        # Print cost every at intervals 10 times or as many iterations if < 10\n",
    "        if i% math.ceil(num_iters/10) == 0 or i == (num_iters-1):\n",
    "            w_history.append(w_in)\n",
    "            print(f\"Iteration {i:4}: Cost {float(J_history[-1]):8.2f}   \")\n",
    "        \n",
    "    return w_in, b_in, J_history, w_history #return w and J,w history for graphing"
   ]
  },
  {
   "cell_type": "code",
   "execution_count": 130,
   "id": "c6376a92",
   "metadata": {},
   "outputs": [
    {
     "name": "stdout",
     "output_type": "stream",
     "text": [
      "Iteration    0: Cost     2.71   \n",
      "Iteration 2000: Cost     0.96   \n",
      "Iteration 4000: Cost     0.96   \n",
      "Iteration 6000: Cost     0.96   \n",
      "Iteration 8000: Cost     0.96   \n",
      "Iteration 10000: Cost     0.96   \n",
      "Iteration 12000: Cost     0.96   \n",
      "Iteration 14000: Cost     0.96   \n",
      "Iteration 16000: Cost     0.96   \n",
      "Iteration 18000: Cost     0.96   \n",
      "Iteration 19999: Cost     0.96   \n"
     ]
    }
   ],
   "source": [
    "\n",
    "intial_w = 1.\n",
    "initial_b = 5.\n",
    "\n",
    "\n",
    "# Some gradient descent settings\n",
    "iterations = 20000\n",
    "alpha = 0.0001\n",
    "\n",
    "w,b, J_history,_ = gradient_descent(X_train ,Y_train, initial_w, initial_b, \n",
    "                                   compute_cost, compute_gradient, alpha, iterations)"
   ]
  },
  {
   "cell_type": "markdown",
   "id": "34cda924",
   "metadata": {},
   "source": [
    "## PREDICTION"
   ]
  },
  {
   "cell_type": "code",
   "execution_count": 149,
   "id": "c943610d",
   "metadata": {},
   "outputs": [
    {
     "name": "stdout",
     "output_type": "stream",
     "text": [
      "Enter the number of points: 69\n",
      "The team is expected to finish top 4 and qualify for the champions league\n"
     ]
    }
   ],
   "source": [
    "\n",
    "points= int(input(\"Enter the number of points: \"))\n",
    "result = sigmoid(w*points+b)\n",
    "if(result<0.5):\n",
    "    print(\"The team is expected to finish top 4 and qualify for the champions league\")\n",
    "else:\n",
    "    print(\"The team is not expected to finish top 4.\")"
   ]
  },
  {
   "cell_type": "code",
   "execution_count": 159,
   "id": "cd0b1dfa",
   "metadata": {},
   "outputs": [],
   "source": []
  },
  {
   "cell_type": "code",
   "execution_count": null,
   "id": "d739cf24",
   "metadata": {},
   "outputs": [],
   "source": []
  },
  {
   "cell_type": "code",
   "execution_count": null,
   "id": "80e6dcbf",
   "metadata": {},
   "outputs": [],
   "source": []
  }
 ],
 "metadata": {
  "kernelspec": {
   "display_name": "Python 3 (ipykernel)",
   "language": "python",
   "name": "python3"
  },
  "language_info": {
   "codemirror_mode": {
    "name": "ipython",
    "version": 3
   },
   "file_extension": ".py",
   "mimetype": "text/x-python",
   "name": "python",
   "nbconvert_exporter": "python",
   "pygments_lexer": "ipython3",
   "version": "3.9.12"
  }
 },
 "nbformat": 4,
 "nbformat_minor": 5
}
